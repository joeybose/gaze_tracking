{
 "cells": [
  {
   "cell_type": "code",
   "execution_count": 186,
   "metadata": {
    "collapsed": false
   },
   "outputs": [
    {
     "name": "stdout",
     "output_type": "stream",
     "text": [
      "Populating the interactive namespace from numpy and matplotlib\n"
     ]
    },
    {
     "name": "stderr",
     "output_type": "stream",
     "text": [
      "WARNING: pylab import has clobbered these variables: ['clf']\n",
      "`%matplotlib` prevents importing * from pylab and numpy\n"
     ]
    }
   ],
   "source": [
    "import os\n",
    "import features\n",
    "import numpy as np\n",
    "import skimage.io\n",
    "import csv\n",
    "import re\n",
    "from collections import namedtuple\n",
    "from sklearn.preprocessing import MultiLabelBinarizer\n",
    "from sklearn.ensemble import RandomForestClassifier\n",
    "from sklearn.ensemble import GradientBoostingClassifier\n",
    "from sklearn.ensemble import AdaBoostClassifier\n",
    "from sklearn.metrics import confusion_matrix, recall_score, accuracy_score\n",
    "from sklearn.cross_validation import train_test_split, LabelKFold, cross_val_score\n",
    "from sklearn.externals import joblib\n",
    "import matplotlib.pyplot as plt\n",
    "%pylab inline"
   ]
  },
  {
   "cell_type": "code",
   "execution_count": 187,
   "metadata": {
    "collapsed": false
   },
   "outputs": [
    {
     "data": {
      "application/javascript": [
       "IPython.OutputArea.prototype._should_scroll = function(lines) {\n",
       "    return false;\n",
       "}"
      ],
      "text/plain": [
       "<IPython.core.display.Javascript object>"
      ]
     },
     "metadata": {},
     "output_type": "display_data"
    }
   ],
   "source": [
    "%%javascript\n",
    "IPython.OutputArea.prototype._should_scroll = function(lines) {\n",
    "    return false;\n",
    "}"
   ]
  },
  {
   "cell_type": "markdown",
   "metadata": {},
   "source": [
    "# Extracting Data Set"
   ]
  },
  {
   "cell_type": "code",
   "execution_count": 188,
   "metadata": {
    "collapsed": false
   },
   "outputs": [],
   "source": [
    "Sample = namedtuple('Sample', ['path','label','vector'])\n",
    "\n",
    "def map_file_path_to_number(file_path):\n",
    "    for label in LABELS:\n",
    "        if label in file_path:\n",
    "            return labels_to_number[label]\n",
    "    return -1\n",
    "\n",
    "def map_row_to_sample(csv_row):\n",
    "    return Sample(\n",
    "        path=row[0],\n",
    "        label=map_file_path_to_number(row[0]),\n",
    "        vector=[float(x) for x in row[2:]]\n",
    "    )\n",
    "\n",
    "vectors_dump_file = open('gaze_vectors_with_failures.csv', 'rb')\n",
    "vectors_and_failures = list(csv.reader(vectors_dump_file))\n",
    "multiple_detections = joblib.load('samples-with-multi-detections.pkl');\n",
    "\n",
    "vectors_dump_file_2 = open('gaze_vectors_with_failures_2.csv', 'rb')\n",
    "vectors_and_failures_2 = list(csv.reader(vectors_dump_file_2))"
   ]
  },
  {
   "cell_type": "code",
   "execution_count": 189,
   "metadata": {
    "collapsed": false
   },
   "outputs": [],
   "source": [
    "LABELS = ['top_left', 'top_right', 'bot_left', 'bot_right']\n",
    "labels_to_number = dict(zip(LABELS, range(len(LABELS))))\n",
    "samples = [map_row_to_sample(row) for row in vectors_and_failures if not row[1] and row[0] not in multiple_detections]\n",
    "X = np.array([s.vector for s in samples])\n",
    "Y = np.array([s.label for s in samples])"
   ]
  },
  {
   "cell_type": "markdown",
   "metadata": {},
   "source": [
    "# Training "
   ]
  },
  {
   "cell_type": "code",
   "execution_count": 190,
   "metadata": {
    "collapsed": false
   },
   "outputs": [],
   "source": [
    "X_train, X_test, Y_train, Y_test = train_test_split(X, Y, test_size=0.33)"
   ]
  },
  {
   "cell_type": "code",
   "execution_count": 191,
   "metadata": {
    "collapsed": true
   },
   "outputs": [],
   "source": [
    "def classification_performance(clf, X, Y):\n",
    "    results = clf.predict(X)\n",
    "    print \"Recall for each class:\"\n",
    "    print recall_score(Y, results, average=None)\n",
    "\n",
    "    print \"\"\n",
    "    print \"Accuracy:\"\n",
    "    print clf.score(X, Y)\n",
    "\n",
    "    # Compute confusion matrix\n",
    "    cm = confusion_matrix(Y, results)\n",
    "\n",
    "    # Show confusion matrix in a separate window\n",
    "    plt.matshow(cm)\n",
    "    plt.title('Confusion matrix')\n",
    "    plt.colorbar()\n",
    "    plt.ylabel('True label')\n",
    "    plt.xlabel('Predicted label')\n",
    "    plt.show()"
   ]
  },
  {
   "cell_type": "markdown",
   "metadata": {},
   "source": [
    "## 10 Trees"
   ]
  },
  {
   "cell_type": "code",
   "execution_count": 192,
   "metadata": {
    "collapsed": true
   },
   "outputs": [],
   "source": [
    "clf = RandomForestClassifier(n_estimators=10)\n",
    "clf = clf.fit(X_train, Y_train)"
   ]
  },
  {
   "cell_type": "markdown",
   "metadata": {},
   "source": [
    "### Classification Performance on Training Data"
   ]
  },
  {
   "cell_type": "code",
   "execution_count": 193,
   "metadata": {
    "collapsed": false
   },
   "outputs": [
    {
     "name": "stdout",
     "output_type": "stream",
     "text": [
      "Recall for each class:\n",
      "[ 0.99870926  0.99760356  0.99672965  0.99541635]\n",
      "\n",
      "Accuracy:\n",
      "0.997190517998\n"
     ]
    },
    {
     "data": {
      "image/png": "[encoded data removed]",
      "text/plain": [
       "<matplotlib.figure.Figure at 0x11994cb90>"
      ]
     },
     "metadata": {},
     "output_type": "display_data"
    }
   ],
   "source": [
    "classification_performance(clf, X_train, Y_train)"
   ]
  },
  {
   "cell_type": "markdown",
   "metadata": {},
   "source": [
    "### Classification Performance on Testing Data"
   ]
  },
  {
   "cell_type": "code",
   "execution_count": 194,
   "metadata": {
    "collapsed": false
   },
   "outputs": [
    {
     "name": "stdout",
     "output_type": "stream",
     "text": [
      "Recall for each class:\n",
      "[ 0.88531187  0.85323034  0.85117302  0.8174305 ]\n",
      "\n",
      "Accuracy:\n",
      "0.852762923351\n"
     ]
    },
    {
     "data": {
      "image/png": "[encoded data removed]",
      "text/plain": [
       "<matplotlib.figure.Figure at 0x115027090>"
      ]
     },
     "metadata": {},
     "output_type": "display_data"
    }
   ],
   "source": [
    "classification_performance(clf, X_test, Y_test)"
   ]
  },
  {
   "cell_type": "markdown",
   "metadata": {},
   "source": [
    "## Gradient Boosted Trees"
   ]
  },
  {
   "cell_type": "code",
   "execution_count": 195,
   "metadata": {
    "collapsed": false
   },
   "outputs": [
    {
     "name": "stdout",
     "output_type": "stream",
     "text": [
      "Recall for each class:\n",
      "[ 1.  1.  1.  1.]\n",
      "\n",
      "Accuracy:\n",
      "1.0\n"
     ]
    },
    {
     "data": {
      "image/png": "[encoded data removed]",
      "text/plain": [
       "<matplotlib.figure.Figure at 0x120a35b90>"
      ]
     },
     "metadata": {},
     "output_type": "display_data"
    },
    {
     "name": "stdout",
     "output_type": "stream",
     "text": [
      "Recall for each class:\n",
      "[ 0.89134809  0.88061798  0.89076246  0.89181067]\n",
      "\n",
      "Accuracy:\n",
      "0.888591800357\n"
     ]
    },
    {
     "data": {
      "image/png": "[encoded data removed]",
      "text/plain": [
       "<matplotlib.figure.Figure at 0x119a59d50>"
      ]
     },
     "metadata": {},
     "output_type": "display_data"
    }
   ],
   "source": [
    "clf = GradientBoostingClassifier(n_estimators=100, learning_rate=1.0,max_depth=10, random_state=0).fit(X_train, Y_train)\n",
    "clf = clf.fit(X_train, Y_train)\n",
    "classification_performance(clf, X_train, Y_train)\n",
    "classification_performance(clf, X_test, Y_test)"
   ]
  },
  {
   "cell_type": "markdown",
   "metadata": {},
   "source": [
    "## AdaBoost Classifier"
   ]
  },
  {
   "cell_type": "code",
   "execution_count": 196,
   "metadata": {
    "collapsed": false
   },
   "outputs": [
    {
     "name": "stdout",
     "output_type": "stream",
     "text": [
      "Recall for each class:\n",
      "[ 0.69377218  0.68298528  0.70494186  0.65889992]\n",
      "\n",
      "Accuracy:\n",
      "0.685689201054\n"
     ]
    },
    {
     "data": {
      "image/png": "[encoded data removed]",
      "text/plain": [
       "<matplotlib.figure.Figure at 0x11c5c8250>"
      ]
     },
     "metadata": {},
     "output_type": "display_data"
    },
    {
     "name": "stdout",
     "output_type": "stream",
     "text": [
      "Recall for each class:\n",
      "[ 0.66867874  0.68469101  0.72727273  0.64613073]\n",
      "\n",
      "Accuracy:\n",
      "0.681639928699\n"
     ]
    },
    {
     "data": {
      "image/png": "[encoded data removed]",
      "text/plain": [
       "<matplotlib.figure.Figure at 0x111f3ca90>"
      ]
     },
     "metadata": {},
     "output_type": "display_data"
    }
   ],
   "source": [
    "clf = AdaBoostClassifier(n_estimators=100,learning_rate=1.0, random_state=0)\n",
    "clf = clf.fit(X_train, Y_train)\n",
    "classification_performance(clf, X_train, Y_train)\n",
    "classification_performance(clf, X_test, Y_test)"
   ]
  },
  {
   "cell_type": "markdown",
   "metadata": {},
   "source": [
    "## 100 Trees"
   ]
  },
  {
   "cell_type": "code",
   "execution_count": 197,
   "metadata": {
    "collapsed": false,
    "scrolled": true
   },
   "outputs": [
    {
     "name": "stdout",
     "output_type": "stream",
     "text": [
      "Recall for each class:\n",
      "[ 1.  1.  1.  1.]\n",
      "\n",
      "Accuracy:\n",
      "1.0\n"
     ]
    },
    {
     "data": {
      "image/png": "[encoded data removed]",
      "text/plain": [
       "<matplotlib.figure.Figure at 0x119857c50>"
      ]
     },
     "metadata": {},
     "output_type": "display_data"
    },
    {
     "name": "stdout",
     "output_type": "stream",
     "text": [
      "Recall for each class:\n",
      "[ 0.90409121  0.91011236  0.90835777  0.89105935]\n",
      "\n",
      "Accuracy:\n",
      "0.903565062389\n"
     ]
    },
    {
     "data": {
      "image/png": "[encoded data removed]",
      "text/plain": [
       "<matplotlib.figure.Figure at 0x117c2db90>"
      ]
     },
     "metadata": {},
     "output_type": "display_data"
    }
   ],
   "source": [
    "clf = RandomForestClassifier(n_estimators=100)\n",
    "clf = clf.fit(X_train, Y_train)\n",
    "classification_performance(clf, X_train, Y_train)\n",
    "classification_performance(clf, X_test, Y_test)"
   ]
  },
  {
   "cell_type": "markdown",
   "metadata": {},
   "source": [
    "## 200 Trees"
   ]
  },
  {
   "cell_type": "code",
   "execution_count": 198,
   "metadata": {
    "collapsed": false
   },
   "outputs": [
    {
     "name": "stdout",
     "output_type": "stream",
     "text": [
      "Recall for each class:\n",
      "[ 1.  1.  1.  1.]\n",
      "\n",
      "Accuracy:\n",
      "1.0\n"
     ]
    },
    {
     "data": {
      "image/png": "[encoded data removed]",
      "text/plain": [
       "<matplotlib.figure.Figure at 0x118984f90>"
      ]
     },
     "metadata": {},
     "output_type": "display_data"
    },
    {
     "name": "stdout",
     "output_type": "stream",
     "text": [
      "Recall for each class:\n",
      "[ 0.90409121  0.90589888  0.90542522  0.89256198]\n",
      "\n",
      "Accuracy:\n",
      "0.902139037433\n"
     ]
    },
    {
     "data": {
      "image/png": "[encoded data removed]",
      "text/plain": [
       "<matplotlib.figure.Figure at 0x121a48a10>"
      ]
     },
     "metadata": {},
     "output_type": "display_data"
    }
   ],
   "source": [
    "clf = RandomForestClassifier(n_estimators=200)\n",
    "clf = clf.fit(X_train, Y_train)\n",
    "classification_performance(clf, X_train, Y_train)\n",
    "classification_performance(clf, X_test, Y_test)"
   ]
  },
  {
   "cell_type": "markdown",
   "metadata": {},
   "source": [
    "## 100 Trees with Auto Weighted"
   ]
  },
  {
   "cell_type": "code",
   "execution_count": 199,
   "metadata": {
    "collapsed": false
   },
   "outputs": [
    {
     "name": "stdout",
     "output_type": "stream",
     "text": [
      "Recall for each class:\n",
      "[ 1.  1.  1.  1.]\n",
      "\n",
      "Accuracy:\n",
      "1.0\n"
     ]
    },
    {
     "data": {
      "image/png": "[encoded data removed]",
      "text/plain": [
       "<matplotlib.figure.Figure at 0x119d19390>"
      ]
     },
     "metadata": {},
     "output_type": "display_data"
    },
    {
     "name": "stdout",
     "output_type": "stream",
     "text": [
      "Recall for each class:\n",
      "[ 0.9047619   0.90168539  0.9127566   0.89030804]\n",
      "\n",
      "Accuracy:\n",
      "0.902495543672\n"
     ]
    },
    {
     "data": {
      "image/png": "[encoded data removed]",
      "text/plain": [
       "<matplotlib.figure.Figure at 0x1193d7a50>"
      ]
     },
     "metadata": {},
     "output_type": "display_data"
    }
   ],
   "source": [
    "clf = RandomForestClassifier(n_estimators=100, class_weight=\"auto\")\n",
    "clf = clf.fit(X_train, Y_train)\n",
    "classification_performance(clf, X_train, Y_train)\n",
    "classification_performance(clf, X_test, Y_test)"
   ]
  },
  {
   "cell_type": "markdown",
   "metadata": {},
   "source": [
    "Save current best classifier to file."
   ]
  },
  {
   "cell_type": "code",
   "execution_count": 200,
   "metadata": {
    "collapsed": false
   },
   "outputs": [],
   "source": [
    "joblib.dump(clf, 'models/classifier.pkl');"
   ]
  },
  {
   "cell_type": "markdown",
   "metadata": {},
   "source": [
    "## Removing samples with multiple detections"
   ]
  },
  {
   "cell_type": "code",
   "execution_count": 201,
   "metadata": {
    "collapsed": true
   },
   "outputs": [],
   "source": [
    "LABELS = ['top_left', 'top_right', 'bot_left', 'bot_right']\n",
    "labels_to_number = dict(zip(LABELS, range(len(LABELS))))\n",
    "samples = [map_row_to_sample(row) for row in vectors_and_failures if not row[1] and row[0] not in multiple_detections]\n",
    "X = np.array([s.vector for s in samples])\n",
    "Y = np.array([s.label for s in samples])"
   ]
  },
  {
   "cell_type": "code",
   "execution_count": 202,
   "metadata": {
    "collapsed": false
   },
   "outputs": [
    {
     "name": "stdout",
     "output_type": "stream",
     "text": [
      "Recall for each class:\n",
      "[ 1.  1.  1.  1.]\n",
      "\n",
      "Accuracy:\n",
      "1.0\n"
     ]
    },
    {
     "data": {
      "image/png": "[encoded data removed]",
      "text/plain": [
       "<matplotlib.figure.Figure at 0x111c57650>"
      ]
     },
     "metadata": {},
     "output_type": "display_data"
    },
    {
     "name": "stdout",
     "output_type": "stream",
     "text": [
      "Recall for each class:\n",
      "[ 0.898055    0.90589888  0.90615836  0.89105935]\n",
      "\n",
      "Accuracy:\n",
      "0.900356506239\n"
     ]
    },
    {
     "data": {
      "image/png": "[encoded data removed]",
      "text/plain": [
       "<matplotlib.figure.Figure at 0x11a00cf10>"
      ]
     },
     "metadata": {},
     "output_type": "display_data"
    }
   ],
   "source": [
    "clf = RandomForestClassifier(n_estimators=100, class_weight=\"auto\")\n",
    "clf = clf.fit(X_train, Y_train)\n",
    "classification_performance(clf, X_train, Y_train)\n",
    "classification_performance(clf, X_test, Y_test)"
   ]
  },
  {
   "cell_type": "code",
   "execution_count": 203,
   "metadata": {
    "collapsed": true
   },
   "outputs": [],
   "source": [
    "joblib.dump(clf, 'models/classifier-cleaned.pkl');"
   ]
  },
  {
   "cell_type": "markdown",
   "metadata": {},
   "source": [
    "## Shallow Classifiers"
   ]
  },
  {
   "cell_type": "code",
   "execution_count": 204,
   "metadata": {
    "collapsed": false
   },
   "outputs": [
    {
     "name": "stdout",
     "output_type": "stream",
     "text": [
      "Recall for each class:\n",
      "[ 0.64246531  0.61109209  0.57303779  0.4289534 ]\n",
      "\n",
      "Accuracy:\n",
      "0.568568920105\n"
     ]
    },
    {
     "data": {
      "image/png": "[encoded data removed]",
      "text/plain": [
       "<matplotlib.figure.Figure at 0x11bae1850>"
      ]
     },
     "metadata": {},
     "output_type": "display_data"
    },
    {
     "name": "stdout",
     "output_type": "stream",
     "text": [
      "Recall for each class:\n",
      "[ 0.61032864  0.61025281  0.58284457  0.45229151]\n",
      "\n",
      "Accuracy:\n",
      "0.566131907308\n"
     ]
    },
    {
     "data": {
      "image/png": "[encoded data removed]",
      "text/plain": [
       "<matplotlib.figure.Figure at 0x119863d90>"
      ]
     },
     "metadata": {},
     "output_type": "display_data"
    }
   ],
   "source": [
    "clf = RandomForestClassifier(n_estimators=100, max_depth=2)\n",
    "clf = clf.fit(X_train, Y_train)\n",
    "classification_performance(clf, X_train, Y_train)\n",
    "classification_performance(clf, X_test, Y_test)"
   ]
  },
  {
   "cell_type": "code",
   "execution_count": 205,
   "metadata": {
    "collapsed": false
   },
   "outputs": [
    {
     "name": "stdout",
     "output_type": "stream",
     "text": [
      "Recall for each class:\n",
      "[ 0.95546951  0.95994522  0.95712209  0.9526356 ]\n",
      "\n",
      "Accuracy:\n",
      "0.95636523266\n"
     ]
    },
    {
     "data": {
      "image/png": "[encoded data removed]",
      "text/plain": [
       "<matplotlib.figure.Figure at 0x11ba47fd0>"
      ]
     },
     "metadata": {},
     "output_type": "display_data"
    },
    {
     "name": "stdout",
     "output_type": "stream",
     "text": [
      "Recall for each class:\n",
      "[ 0.82159624  0.84480337  0.85117302  0.83921863]\n",
      "\n",
      "Accuracy:\n",
      "0.838859180036\n"
     ]
    },
    {
     "data": {
      "image/png": "[encoded data removed]",
      "text/plain": [
       "<matplotlib.figure.Figure at 0x11ba47a50>"
      ]
     },
     "metadata": {},
     "output_type": "display_data"
    }
   ],
   "source": [
    "clf = RandomForestClassifier(n_estimators=100, max_depth=10)\n",
    "clf = clf.fit(X_train, Y_train)\n",
    "classification_performance(clf, X_train, Y_train)\n",
    "classification_performance(clf, X_test, Y_test)"
   ]
  },
  {
   "cell_type": "markdown",
   "metadata": {
    "collapsed": true
   },
   "source": [
    "# Top/Bottom"
   ]
  },
  {
   "cell_type": "code",
   "execution_count": 206,
   "metadata": {
    "collapsed": true
   },
   "outputs": [],
   "source": [
    "LABELS = ['top', 'bot']\n",
    "labels_to_number = dict(zip(LABELS, range(len(LABELS))))\n",
    "samples = [map_row_to_sample(row) for row in vectors_and_failures if not row[1]]\n",
    "X = np.array([s.vector for s in samples])\n",
    "Y = np.array([s.label for s in samples])"
   ]
  },
  {
   "cell_type": "code",
   "execution_count": 207,
   "metadata": {
    "collapsed": true
   },
   "outputs": [],
   "source": [
    "X_train, X_test, Y_train, Y_test = train_test_split(X, Y, test_size=0.33)\n",
    "clf = RandomForestClassifier(n_estimators=100, class_weight=\"auto\")\n",
    "clf = clf.fit(X_train, Y_train)"
   ]
  },
  {
   "cell_type": "markdown",
   "metadata": {},
   "source": [
    "## Classification Performance on Training Data"
   ]
  },
  {
   "cell_type": "code",
   "execution_count": 208,
   "metadata": {
    "collapsed": false
   },
   "outputs": [
    {
     "name": "stdout",
     "output_type": "stream",
     "text": [
      "Recall for each class:\n",
      "[ 1.  1.]\n",
      "\n",
      "Accuracy:\n",
      "1.0\n"
     ]
    },
    {
     "data": {
      "image/png": "[encoded data removed]",
      "text/plain": [
       "<matplotlib.figure.Figure at 0x119b6ce90>"
      ]
     },
     "metadata": {},
     "output_type": "display_data"
    }
   ],
   "source": [
    "classification_performance(clf, X_train, Y_train)"
   ]
  },
  {
   "cell_type": "markdown",
   "metadata": {},
   "source": [
    "## Classification Performance on Testing Data"
   ]
  },
  {
   "cell_type": "code",
   "execution_count": 209,
   "metadata": {
    "collapsed": false
   },
   "outputs": [
    {
     "name": "stdout",
     "output_type": "stream",
     "text": [
      "Recall for each class:\n",
      "[ 0.94326476  0.92754689]\n",
      "\n",
      "Accuracy:\n",
      "0.935810221525\n"
     ]
    },
    {
     "data": {
      "image/png": "[encoded data removed]",
      "text/plain": [
       "<matplotlib.figure.Figure at 0x1189acc90>"
      ]
     },
     "metadata": {},
     "output_type": "display_data"
    }
   ],
   "source": [
    "classification_performance(clf, X_test, Y_test)"
   ]
  },
  {
   "cell_type": "code",
   "execution_count": 210,
   "metadata": {
    "collapsed": true
   },
   "outputs": [],
   "source": [
    "joblib.dump(clf, 'models/top-bot.pkl');"
   ]
  },
  {
   "cell_type": "markdown",
   "metadata": {},
   "source": [
    "# Left/Right"
   ]
  },
  {
   "cell_type": "code",
   "execution_count": null,
   "metadata": {
    "collapsed": true
   },
   "outputs": [],
   "source": [
    "LABELS = ['top', 'bot']\n",
    "labels_to_number = dict(zip(LABELS, range(len(LABELS))))\n",
    "samples = [map_row_to_sample(row) for row in vectors_and_failures if not row[1]]\n",
    "X = np.array([s.vector for s in samples])\n",
    "Y = np.array([s.label for s in samples])"
   ]
  },
  {
   "cell_type": "code",
   "execution_count": null,
   "metadata": {
    "collapsed": true
   },
   "outputs": [],
   "source": [
    "X_train, X_test, Y_train, Y_test = train_test_split(X, Y, test_size=0.33)\n",
    "clf = RandomForestClassifier(n_estimators=200, class_weight=\"auto\")\n",
    "clf = clf.fit(X_train, Y_train)"
   ]
  },
  {
   "cell_type": "markdown",
   "metadata": {},
   "source": [
    "## Classification Performance on Training Data"
   ]
  },
  {
   "cell_type": "code",
   "execution_count": null,
   "metadata": {
    "collapsed": false
   },
   "outputs": [],
   "source": [
    "classification_performance(clf, X_train, Y_train)"
   ]
  },
  {
   "cell_type": "markdown",
   "metadata": {},
   "source": [
    "## Classification Performance on Testing Data"
   ]
  },
  {
   "cell_type": "code",
   "execution_count": null,
   "metadata": {
    "collapsed": false
   },
   "outputs": [],
   "source": [
    "classification_performance(clf, X_test, Y_test)"
   ]
  },
  {
   "cell_type": "code",
   "execution_count": null,
   "metadata": {
    "collapsed": true
   },
   "outputs": [],
   "source": [
    "joblib.dump(clf, 'models/left-right.pkl');"
   ]
  },
  {
   "cell_type": "markdown",
   "metadata": {},
   "source": [
    "## Feature Reducing"
   ]
  },
  {
   "cell_type": "markdown",
   "metadata": {},
   "source": [
    "Attempting to remove the non-normalized features such as mean_x, mean_y, stdev_x, stdev_y"
   ]
  },
  {
   "cell_type": "code",
   "execution_count": null,
   "metadata": {
    "collapsed": true
   },
   "outputs": [],
   "source": [
    "LABELS = ['top_left', 'top_right', 'bot_left', 'bot_right']\n",
    "labels_to_number = dict(zip(LABELS, range(len(LABELS))))\n",
    "samples = [map_row_to_sample(row) for row in vectors_and_failures if not row[1]]\n",
    "X = np.array([s.vector[0:-4] for s in samples])\n",
    "Y = np.array([s.label for s in samples])\n",
    "X_train, X_test, Y_train, Y_test = train_test_split(X, Y, test_size=0.33)"
   ]
  },
  {
   "cell_type": "code",
   "execution_count": null,
   "metadata": {
    "collapsed": false
   },
   "outputs": [],
   "source": [
    "clf = RandomForestClassifier(n_estimators=100, class_weight=\"auto\")\n",
    "clf = clf.fit(X_train, Y_train)\n",
    "classification_performance(clf, X_train, Y_train)\n",
    "classification_performance(clf, X_test, Y_test)"
   ]
  },
  {
   "cell_type": "code",
   "execution_count": null,
   "metadata": {
    "collapsed": true
   },
   "outputs": [],
   "source": [
    "joblib.dump(clf, 'models/less-features.pkl');"
   ]
  },
  {
   "cell_type": "markdown",
   "metadata": {},
   "source": [
    "# Leave One Participant out Training"
   ]
  },
  {
   "cell_type": "code",
   "execution_count": null,
   "metadata": {
    "collapsed": true
   },
   "outputs": [],
   "source": [
    "LABELS = ['top_left', 'top_right', 'bot_left', 'bot_right']\n",
    "labels_to_number = dict(zip(LABELS, range(len(LABELS))))\n",
    "samples = [map_row_to_sample(row) for row in vectors_and_failures if not row[1]]\n",
    "X = np.array([s.vector for s in samples])\n",
    "Y = np.array([s.label for s in samples])"
   ]
  },
  {
   "cell_type": "code",
   "execution_count": null,
   "metadata": {
    "collapsed": false
   },
   "outputs": [],
   "source": [
    "def path_to_participant_label(file_path):\n",
    "    p = re.compile('p\\d+')\n",
    "    str_label = p.search(file_path).group() # \"p<x>\"\n",
    "    return int(str_label[1:]) # \"p<x>\" -> <x>\n",
    "\n",
    "participant_labels = np.array([path_to_participant_label(s.path) for s in samples])"
   ]
  },
  {
   "cell_type": "code",
   "execution_count": null,
   "metadata": {
    "collapsed": false
   },
   "outputs": [],
   "source": [
    "num_participant_labels = len(set(participant_labels))\n",
    "label_kfold = LabelKFold(participant_labels, n_folds=num_participant_labels)\n",
    "clf = RandomForestClassifier(n_estimators=100, class_weight=\"auto\")\n",
    "scores = cross_val_score(clf, X, Y, cv=label_kfold)"
   ]
  },
  {
   "cell_type": "code",
   "execution_count": null,
   "metadata": {
    "collapsed": false
   },
   "outputs": [],
   "source": [
    "plt.boxplot(scores)"
   ]
  },
  {
   "cell_type": "code",
   "execution_count": null,
   "metadata": {
    "collapsed": false
   },
   "outputs": [],
   "source": [
    "print \"Max accuracy:\", np.max(scores)\n",
    "print \"Min accuracy:\", np.min(scores)"
   ]
  },
  {
   "cell_type": "markdown",
   "metadata": {},
   "source": [
    "## Confusion Matrices for each left out particpant"
   ]
  },
  {
   "cell_type": "code",
   "execution_count": null,
   "metadata": {
    "collapsed": false
   },
   "outputs": [],
   "source": [
    "for train_index, test_index in label_kfold:\n",
    "    X_train, X_test = X[train_index], X[test_index]\n",
    "    Y_train, Y_test = Y[train_index], Y[test_index]\n",
    "    \n",
    "\n",
    "    left_out_participant = list(set(participant_labels[test_index]))[0]\n",
    "    print \"Leaving out participant {}\".format(left_out_participant)\n",
    "\n",
    "    clf = clf.fit(X_train, Y_train)\n",
    "    classification_performance(clf, X_train, Y_train)\n",
    "    classification_performance(clf, X_test, Y_test)"
   ]
  },
  {
   "cell_type": "markdown",
   "metadata": {
    "collapsed": true
   },
   "source": [
    "## Secondary Data Set"
   ]
  },
  {
   "cell_type": "markdown",
   "metadata": {},
   "source": [
    "### Isolated"
   ]
  },
  {
   "cell_type": "code",
   "execution_count": null,
   "metadata": {
    "collapsed": true
   },
   "outputs": [],
   "source": [
    "LABELS = ['top_left', 'top_right', 'bot_left', 'bot_right', 'center']\n",
    "labels_to_number = dict(zip(LABELS, range(len(LABELS))))\n",
    "samples = [map_row_to_sample(row) for row in vectors_and_failures_2 if not row[1] and row[0] not in multiple_detections]\n",
    "X = np.array([s.vector for s in samples])\n",
    "Y = np.array([s.label for s in samples])\n",
    "X_train, X_test, Y_train, Y_test = train_test_split(X, Y, test_size=0.10)"
   ]
  },
  {
   "cell_type": "markdown",
   "metadata": {},
   "source": [
    "#### Performance on self"
   ]
  },
  {
   "cell_type": "code",
   "execution_count": null,
   "metadata": {
    "collapsed": false
   },
   "outputs": [],
   "source": [
    "clf = RandomForestClassifier(n_estimators=100, class_weight=\"auto\")\n",
    "clf = clf.fit(X_train, Y_train)\n",
    "classification_performance(clf, X_train, Y_train)\n",
    "classification_performance(clf, X_test, Y_test)"
   ]
  },
  {
   "cell_type": "markdown",
   "metadata": {},
   "source": [
    "#### Performance on previous set"
   ]
  },
  {
   "cell_type": "code",
   "execution_count": null,
   "metadata": {
    "collapsed": false
   },
   "outputs": [],
   "source": [
    "samples = [map_row_to_sample(row) for row in vectors_and_failures if not row[1] and row[0] not in multiple_detections]\n",
    "X_test = np.array([s.vector for s in samples])\n",
    "Y_test = np.array([s.label for s in samples])\n",
    "classification_performance(clf, X_test, Y_test)"
   ]
  },
  {
   "cell_type": "markdown",
   "metadata": {},
   "source": [
    "### Added to previous set"
   ]
  },
  {
   "cell_type": "code",
   "execution_count": null,
   "metadata": {
    "collapsed": true
   },
   "outputs": [],
   "source": [
    "LABELS = ['top_left', 'top_right', 'bot_left', 'bot_right', 'center']\n",
    "labels_to_number = dict(zip(LABELS, range(len(LABELS))))\n",
    "vectors_and_failures_combined = vectors_and_failures + vectors_and_failures_2\n",
    "samples = [map_row_to_sample(row) for row in vectors_and_failures_combined if not row[1] and row[0] not in multiple_detections]\n",
    "X = np.array([s.vector for s in samples])\n",
    "Y = np.array([s.label for s in samples])\n",
    "X_train, X_test, Y_train, Y_test = train_test_split(X, Y, test_size=0.33)"
   ]
  },
  {
   "cell_type": "code",
   "execution_count": null,
   "metadata": {
    "collapsed": false
   },
   "outputs": [],
   "source": [
    "clf = RandomForestClassifier(n_estimators=100, class_weight=\"auto\")\n",
    "clf = clf.fit(X_train, Y_train)\n",
    "classification_performance(clf, X_train, Y_train)\n",
    "classification_performance(clf, X_test, Y_test)"
   ]
  },
  {
   "cell_type": "markdown",
   "metadata": {},
   "source": [
    "### Removing Center Samples and Label"
   ]
  },
  {
   "cell_type": "code",
   "execution_count": null,
   "metadata": {
    "collapsed": true
   },
   "outputs": [],
   "source": [
    "LABELS = ['top_left', 'top_right', 'bot_left', 'bot_right']\n",
    "labels_to_number = dict(zip(LABELS, range(len(LABELS))))\n",
    "vectors_and_failures_combined = vectors_and_failures + vectors_and_failures_2\n",
    "samples = [map_row_to_sample(row) for row in vectors_and_failures_combined if not row[1] and row[0] not in multiple_detections]\n",
    "samples = [s for s in samples if s.label != -1]\n",
    "X = np.array([s.vector for s in samples])\n",
    "Y = np.array([s.label for s in samples])\n",
    "X_train, X_test, Y_train, Y_test = train_test_split(X, Y, test_size=0.33)"
   ]
  },
  {
   "cell_type": "code",
   "execution_count": null,
   "metadata": {
    "collapsed": false
   },
   "outputs": [],
   "source": [
    "clf = RandomForestClassifier(n_estimators=100, class_weight=\"auto\")\n",
    "clf = clf.fit(X_train, Y_train)\n",
    "classification_performance(clf, X_train, Y_train)\n",
    "classification_performance(clf, X_test, Y_test)"
   ]
  },
  {
   "cell_type": "code",
   "execution_count": null,
   "metadata": {
    "collapsed": true
   },
   "outputs": [],
   "source": []
  }
 ],
 "metadata": {
  "kernelspec": {
   "display_name": "Python 2",
   "language": "python",
   "name": "python2"
  },
  "language_info": {
   "codemirror_mode": {
    "name": "ipython",
    "version": 2
   },
   "file_extension": ".py",
   "mimetype": "text/x-python",
   "name": "python",
   "nbconvert_exporter": "python",
   "pygments_lexer": "ipython2",
   "version": "2.7.10"
  }
 },
 "nbformat": 4,
 "nbformat_minor": 0
}
